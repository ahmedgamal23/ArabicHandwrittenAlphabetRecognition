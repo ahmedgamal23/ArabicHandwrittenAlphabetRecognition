{
 "cells": [
  {
   "cell_type": "code",
   "execution_count": 137,
   "id": "96777b1c-ff21-49c3-b9ce-75711b86db79",
   "metadata": {
    "collapsed": true,
    "jupyter": {
     "outputs_hidden": true
    },
    "tags": []
   },
   "outputs": [
    {
     "name": "stdout",
     "output_type": "stream",
     "text": [
      "Collecting tflearn\n",
      "  Using cached tflearn-0.5.0.tar.gz (107 kB)\n",
      "  Preparing metadata (setup.py): started\n",
      "  Preparing metadata (setup.py): finished with status 'done'\n",
      "Requirement already satisfied: numpy in d:\\anaconda3_setup\\envs\\projects_env\\lib\\site-packages (from tflearn) (1.25.2)\n",
      "Requirement already satisfied: six in d:\\anaconda3_setup\\envs\\projects_env\\lib\\site-packages (from tflearn) (1.16.0)\n",
      "Requirement already satisfied: Pillow in d:\\anaconda3_setup\\envs\\projects_env\\lib\\site-packages (from tflearn) (9.4.0)\n",
      "Building wheels for collected packages: tflearn\n",
      "  Building wheel for tflearn (setup.py): started\n",
      "  Building wheel for tflearn (setup.py): finished with status 'done'\n",
      "  Created wheel for tflearn: filename=tflearn-0.5.0-py3-none-any.whl size=127290 sha256=7b87397c95b29ed3e79db99663a177b6fdc31f0e1245cfc9d6c1fb6e7e8bcf3e\n",
      "  Stored in directory: c:\\users\\ahmed_gamal\\appdata\\local\\pip\\cache\\wheels\\55\\fb\\7b\\e06204a0ceefa45443930b9a250cb5ebe31def0e4e8245a465\n",
      "Successfully built tflearn\n",
      "Installing collected packages: tflearn\n",
      "Successfully installed tflearn-0.5.0\n",
      "Note: you may need to restart the kernel to use updated packages.\n"
     ]
    }
   ],
   "source": [
    "pip install tflearn"
   ]
  },
  {
   "cell_type": "code",
   "execution_count": 182,
   "id": "521098a1-40de-4145-a3ad-1948d7b8d0a8",
   "metadata": {},
   "outputs": [],
   "source": [
    "import numpy as np\n",
    "import pandas as pd\n",
    "import matplotlib.pyplot as plt\n",
    "import tensorflow as tf\n",
    "import scipy.io \n",
    "import cv2\n",
    "import random\n",
    "from tensorflow.keras import models , layers\n",
    "from tensorflow.keras.losses import CategoricalCrossentropy\n",
    "import tflearn\n",
    "from tflearn.data_utils import to_categorical\n",
    "from tensorflow.keras.optimizers import Adam\n",
    "from tensorflow.keras.preprocessing.image import ImageDataGenerator\n",
    "from tensorflow.keras.callbacks import EarlyStopping"
   ]
  },
  {
   "cell_type": "code",
   "execution_count": 146,
   "id": "61fd69ed-60ff-462c-adb2-a55015c79d62",
   "metadata": {},
   "outputs": [],
   "source": [
    "train_image = pd.read_csv('csvTrainImages 13440x1024.csv')\n",
    "train_label = pd.read_csv('csvTrainLabel 13440x1.csv')\n",
    "test_image = pd.read_csv('csvTestImages 3360x1024.csv')\n",
    "test_label = pd.read_csv('csvTestLabel 3360x1.csv')"
   ]
  },
  {
   "cell_type": "code",
   "execution_count": 147,
   "id": "0689bcb6-de23-4e21-bb79-e89f6be6462e",
   "metadata": {
    "tags": []
   },
   "outputs": [
    {
     "data": {
      "text/plain": [
       "'\\nX_train = train_image.iloc[ :int(len(train_image)*0.8) , : ]\\ny_train = train_label.iloc[ :int(len(train_label)*0.8) , : ]\\nX_test = train_image.iloc[ int(len(train_image)*0.8): , : ]\\ny_test = train_label.iloc[ int(len(train_label)*0.8): , : ]\\n'"
      ]
     },
     "execution_count": 147,
     "metadata": {},
     "output_type": "execute_result"
    }
   ],
   "source": [
    "'''\n",
    "X_train = train_image.iloc[ :int(len(train_image)*0.8) , : ]\n",
    "y_train = train_label.iloc[ :int(len(train_label)*0.8) , : ]\n",
    "X_test = train_image.iloc[ int(len(train_image)*0.8): , : ]\n",
    "y_test = train_label.iloc[ int(len(train_label)*0.8): , : ]\n",
    "'''"
   ]
  },
  {
   "cell_type": "code",
   "execution_count": 148,
   "id": "1ab6fcb3-050e-44d0-a2d5-e08ff7b5ae0c",
   "metadata": {
    "tags": []
   },
   "outputs": [
    {
     "data": {
      "text/plain": [
       "\"\\ny_train = y_train.values.astype('int32')-1\\ny_train = to_categorical(y_train , 28)\\n\""
      ]
     },
     "execution_count": 148,
     "metadata": {},
     "output_type": "execute_result"
    }
   ],
   "source": [
    "train_label = train_label.values.astype('int32')-1\n",
    "train_label = to_categorical(train_label , 28)\n",
    "'''\n",
    "y_train = y_train.values.astype('int32')-1\n",
    "y_train = to_categorical(y_train , 28)\n",
    "'''"
   ]
  },
  {
   "cell_type": "code",
   "execution_count": 149,
   "id": "30e1a392-9fcb-414b-b4c2-8a3f2e01f04e",
   "metadata": {
    "tags": []
   },
   "outputs": [
    {
     "data": {
      "text/plain": [
       "\"\\ny_test = y_test.values.astype('int32')-1\\ny_test = to_categorical(y_test , 28)\\n\""
      ]
     },
     "execution_count": 149,
     "metadata": {},
     "output_type": "execute_result"
    }
   ],
   "source": [
    "test_label = test_label.values.astype('int32')-1\n",
    "test_label = to_categorical(test_label , 28)\n",
    "'''\n",
    "y_test = y_test.values.astype('int32')-1\n",
    "y_test = to_categorical(y_test , 28)\n",
    "'''"
   ]
  },
  {
   "cell_type": "code",
   "execution_count": 150,
   "id": "d50d0e10-92c6-4739-97f4-97ea576623d7",
   "metadata": {
    "tags": []
   },
   "outputs": [
    {
     "data": {
      "text/plain": [
       "'\\nX_train = np.reshape(X_train , (X_train.shape[0] , 32 , 32 , 1))\\ny_train = np.array(y_train)\\nX_test = np.reshape(X_test , (X_test.shape[0] , 32 , 32 , 1))\\ny_test = np.array(y_test)\\n'"
      ]
     },
     "execution_count": 150,
     "metadata": {},
     "output_type": "execute_result"
    }
   ],
   "source": [
    "train_image = np.reshape(train_image , (train_image.shape[0] , 32 , 32 , 1))\n",
    "train_label = np.array(train_label)\n",
    "test_image = np.reshape(test_image , (test_image.shape[0] , 32 , 32 , 1))\n",
    "test_label = np.array(test_label)\n",
    "'''\n",
    "X_train = np.reshape(X_train , (X_train.shape[0] , 32 , 32 , 1))\n",
    "y_train = np.array(y_train)\n",
    "X_test = np.reshape(X_test , (X_test.shape[0] , 32 , 32 , 1))\n",
    "y_test = np.array(y_test)\n",
    "'''"
   ]
  },
  {
   "cell_type": "code",
   "execution_count": 151,
   "id": "75acb886-14c5-4df9-a4f3-88dfa837dbaf",
   "metadata": {
    "tags": []
   },
   "outputs": [
    {
     "name": "stdout",
     "output_type": "stream",
     "text": [
      "(13439, 32, 32, 1)\n",
      "(13439, 28)\n",
      "(3359, 32, 32, 1)\n",
      "<class 'numpy.ndarray'>\n",
      "(3359, 28)\n"
     ]
    }
   ],
   "source": [
    "print(train_image.shape)\n",
    "print(train_label.shape)\n",
    "print(test_image.shape)\n",
    "print(type(test_image))\n",
    "print(test_label.shape)"
   ]
  },
  {
   "cell_type": "code",
   "execution_count": 152,
   "id": "ee48632d-de03-456b-ae1f-292ebe3595b2",
   "metadata": {
    "tags": []
   },
   "outputs": [
    {
     "data": {
      "image/png": "[encoded data removed]",
      "text/plain": [
       "<Figure size 1000x500 with 10 Axes>"
      ]
     },
     "metadata": {},
     "output_type": "display_data"
    }
   ],
   "source": [
    "fig = plt.figure(figsize=(10,5))\n",
    "for ind in range(10):\n",
    "    i = random.randint(0 , len(train_image))\n",
    "    ax = plt.subplot(2,5,ind+1)\n",
    "    plt.imshow(train_image[i].astype(np.uint8))\n",
    "    #plt.title(y_train[i])\n",
    "    plt.axis('off')"
   ]
  },
  {
   "cell_type": "code",
   "execution_count": 176,
   "id": "d0bd63b7-d896-4e70-8451-07c9d0a7ec3c",
   "metadata": {
    "tags": []
   },
   "outputs": [],
   "source": [
    "train_datagen = ImageDataGenerator(\n",
    "    rotation_range=10,\n",
    "    width_shift_range=0.1,\n",
    "    height_shift_range=0.1,\n",
    "    shear_range=0.1,\n",
    "    zoom_range=0.1,\n",
    "    fill_mode='nearest'\n",
    ")"
   ]
  },
  {
   "cell_type": "code",
   "execution_count": 177,
   "id": "46f41a91-fa45-4693-88d1-4fe3e8226a00",
   "metadata": {
    "tags": []
   },
   "outputs": [],
   "source": [
    "train_generator = train_datagen.flow(train_image, train_label, batch_size=32)"
   ]
  },
  {
   "cell_type": "code",
   "execution_count": 200,
   "id": "701eaaa7-3568-4d16-aa8c-62a23e2838c9",
   "metadata": {
    "tags": []
   },
   "outputs": [
    {
     "data": {
      "text/plain": [
       "420"
      ]
     },
     "execution_count": 200,
     "metadata": {},
     "output_type": "execute_result"
    }
   ],
   "source": [
    "len(train_generator)"
   ]
  },
  {
   "cell_type": "code",
   "execution_count": 153,
   "id": "bd3ff6d2-b1a4-4466-a800-df8c963d2e6c",
   "metadata": {
    "tags": []
   },
   "outputs": [
    {
     "data": {
      "text/plain": [
       "\"\\nmodel = models.Sequential()\\nmodel.add(layers.Conv2D(32 , (3,3) , activation='relu' , input_shape=(32,32 , 1) ))\\nmodel.add(layers.MaxPooling2D() )\\nmodel.add(layers.Normalization() )\\nmodel.add(layers.Conv2D(64 , (3,3) , activation='relu' ))\\nmodel.add(layers.MaxPooling2D() )\\nmodel.add(layers.Normalization() )\\nmodel.add(layers.Conv2D(64 , (3,3) , activation='relu' ))\\nmodel.add(layers.Conv2D(128 , (3,3) , activation='relu' ))\\nmodel.add(layers.Flatten())\\nmodel.add(layers.Dropout(0.5) )\\nmodel.add(layers.Dense(512 , activation='relu') )\\nmodel.add(layers.Dropout(0.3) )\\nmodel.add(layers.Dense(1024 , activation='relu') )\\nmodel.add(layers.Dense(28 , activation='softmax') )\\n\""
      ]
     },
     "execution_count": 153,
     "metadata": {},
     "output_type": "execute_result"
    }
   ],
   "source": [
    "'''\n",
    "model = models.Sequential()\n",
    "model.add(layers.Conv2D(32 , (3,3) , activation='relu' , input_shape=(32,32 , 1) ))\n",
    "model.add(layers.MaxPooling2D() )\n",
    "model.add(layers.Normalization() )\n",
    "model.add(layers.Conv2D(64 , (3,3) , activation='relu' ))\n",
    "model.add(layers.MaxPooling2D() )\n",
    "model.add(layers.Normalization() )\n",
    "model.add(layers.Conv2D(64 , (3,3) , activation='relu' ))\n",
    "model.add(layers.Conv2D(128 , (3,3) , activation='relu' ))\n",
    "model.add(layers.Flatten())\n",
    "model.add(layers.Dropout(0.5) )\n",
    "model.add(layers.Dense(512 , activation='relu') )\n",
    "model.add(layers.Dropout(0.3) )\n",
    "model.add(layers.Dense(1024 , activation='relu') )\n",
    "model.add(layers.Dense(28 , activation='softmax') )\n",
    "'''"
   ]
  },
  {
   "cell_type": "code",
   "execution_count": 183,
   "id": "ac27764a-7d57-48a0-ac7d-b04f15376d1f",
   "metadata": {
    "tags": []
   },
   "outputs": [],
   "source": [
    "model = models.Sequential()\n",
    "model.add(layers.Conv2D(32, (3, 3), activation='relu', input_shape=(32, 32, 1)))\n",
    "model.add(layers.MaxPooling2D())\n",
    "\n",
    "model.add(layers.Conv2D(64, (3, 3), activation='relu'))\n",
    "model.add(layers.MaxPooling2D())\n",
    "\n",
    "model.add(layers.Conv2D(64, (3, 3), activation='relu'))\n",
    "model.add(layers.Conv2D(64, (3, 3), activation='relu'))\n",
    "model.add(layers.MaxPooling2D())\n",
    "\n",
    "model.add(layers.Flatten())\n",
    "model.add(layers.Dense(512, activation='relu'))\n",
    "model.add(layers.Dropout(0.3))\n",
    "model.add(layers.Dense(1024, activation='relu'))\n",
    "model.add(layers.Dense(28, activation='softmax'))"
   ]
  },
  {
   "cell_type": "code",
   "execution_count": 184,
   "id": "d8400047-cc92-4fc9-a6f3-b82368805f02",
   "metadata": {
    "tags": []
   },
   "outputs": [],
   "source": [
    "model.compile(optimizer='adam' , loss= 'categorical_crossentropy' , metrics=['accuracy'] )"
   ]
  },
  {
   "cell_type": "code",
   "execution_count": 185,
   "id": "290a5b41-42f3-45fc-9d88-a98113a1371e",
   "metadata": {},
   "outputs": [
    {
     "name": "stdout",
     "output_type": "stream",
     "text": [
      "Epoch 1/30\n",
      "420/420 [==============================] - ETA: 0s - batch: 209.5000 - size: 31.9976 - loss: 1.7055 - acc: 0.4583"
     ]
    },
    {
     "name": "stderr",
     "output_type": "stream",
     "text": [
      "D:\\Anaconda3_setup\\envs\\projects_env\\lib\\site-packages\\keras\\engine\\training_v1.py:2332: UserWarning: `Model.state_updates` will be removed in a future version. This property should not be used in TensorFlow 2.0, as `updates` are applied automatically.\n",
      "  updates = self.state_updates\n"
     ]
    },
    {
     "name": "stdout",
     "output_type": "stream",
     "text": [
      "420/420 [==============================] - 21s 46ms/step - batch: 209.5000 - size: 31.9976 - loss: 1.7055 - acc: 0.4583 - val_loss: 0.8381 - val_acc: 0.7032\n",
      "Epoch 2/30\n",
      "420/420 [==============================] - 19s 44ms/step - batch: 209.5000 - size: 31.9976 - loss: 0.7861 - acc: 0.7345 - val_loss: 0.5406 - val_acc: 0.8208\n",
      "Epoch 3/30\n",
      "420/420 [==============================] - 25s 59ms/step - batch: 209.5000 - size: 31.9976 - loss: 0.5854 - acc: 0.8087 - val_loss: 0.4493 - val_acc: 0.8571\n",
      "Epoch 4/30\n",
      "420/420 [==============================] - 20s 48ms/step - batch: 209.5000 - size: 31.9976 - loss: 0.4902 - acc: 0.8399 - val_loss: 0.6386 - val_acc: 0.8065\n",
      "Epoch 5/30\n",
      "420/420 [==============================] - 18s 43ms/step - batch: 209.5000 - size: 31.9976 - loss: 0.3144 - acc: 0.9010 - val_loss: 0.1906 - val_acc: 0.9440\n",
      "Epoch 11/30\n",
      "420/420 [==============================] - 18s 43ms/step - batch: 209.5000 - size: 31.9976 - loss: 0.2893 - acc: 0.9117 - val_loss: 0.3038 - val_acc: 0.9149\n",
      "Epoch 12/30\n",
      "420/420 [==============================] - 18s 43ms/step - batch: 209.5000 - size: 31.9976 - loss: 0.2839 - acc: 0.9132 - val_loss: 0.1968 - val_acc: 0.9449\n",
      "Epoch 13/30\n",
      "420/420 [==============================] - 18s 43ms/step - batch: 209.5000 - size: 31.9976 - loss: 0.2752 - acc: 0.9163 - val_loss: 0.2258 - val_acc: 0.9422\n",
      "Epoch 14/30\n",
      "420/420 [==============================] - 18s 43ms/step - batch: 209.5000 - size: 31.9976 - loss: 0.2836 - acc: 0.9142 - val_loss: 0.2681 - val_acc: 0.9268\n",
      "Epoch 15/30\n",
      "420/420 [==============================] - 18s 43ms/step - batch: 209.5000 - size: 31.9976 - loss: 0.2605 - acc: 0.9190 - val_loss: 0.2023 - val_acc: 0.9431\n"
     ]
    }
   ],
   "source": [
    "# Training with early stopping\n",
    "early_stopping = EarlyStopping(monitor='val_loss', patience=5, restore_best_weights=True)\n",
    "\n",
    "history = model.fit(train_generator, epochs=30, validation_data=(test_image, test_label), callbacks=[early_stopping])"
   ]
  },
  {
   "cell_type": "code",
   "execution_count": 186,
   "id": "d6e7f079-6e36-4a68-8357-701abd5b4589",
   "metadata": {},
   "outputs": [],
   "source": [
    "score = model.evaluate(test_image, test_label)"
   ]
  },
  {
   "cell_type": "code",
   "execution_count": 187,
   "id": "934b935e-f3ec-4ef8-98fb-60f23305c9f0",
   "metadata": {},
   "outputs": [
    {
     "data": {
      "text/plain": [
       "[0.19063438165485946, 0.94403094]"
      ]
     },
     "execution_count": 187,
     "metadata": {},
     "output_type": "execute_result"
    }
   ],
   "source": [
    "score"
   ]
  },
  {
   "cell_type": "code",
   "execution_count": 188,
   "id": "4e69608d-1d56-41ad-a0b3-8af831e3a9d4",
   "metadata": {
    "tags": []
   },
   "outputs": [],
   "source": [
    "# save model \n",
    "model.save('model.h5')"
   ]
  },
  {
   "cell_type": "code",
   "execution_count": 189,
   "id": "ccf3d778-a744-4128-9c19-58e63a1ef9e9",
   "metadata": {
    "tags": []
   },
   "outputs": [],
   "source": [
    "def getArabicAlphabet(x):\n",
    "    if(x==0):\n",
    "        return \"الف\"\n",
    "    elif(x==1):\n",
    "        return \"باء\"\n",
    "    elif(x==2):\n",
    "        return \"تاء\"\n",
    "    elif(x==3):\n",
    "        return \"ثاء\"\n",
    "    elif(x==4):\n",
    "        return(\"جيم\") \n",
    "    elif(x==5):\n",
    "        return(\"حاء\")\n",
    "    elif(x==6):\n",
    "        return(\"خاء\")\n",
    "    elif(x==7):\n",
    "        return(\"دال\")\n",
    "    elif(x==8):\n",
    "        return(\"ذال\")\n",
    "    elif(x==9):\n",
    "        return(\"راء\")\n",
    "    elif(x==10):\n",
    "        return(\"زين\")\n",
    "    elif(x==11):\n",
    "        return(\"سين\")\n",
    "    elif(x==12):\n",
    "        return(\"شين\")\n",
    "    elif(x==13):\n",
    "        return(\"صاد\")\n",
    "    elif(x==14):\n",
    "        return(\"ضاد\")\n",
    "    elif(x==15):\n",
    "        return(\"طاء\")\n",
    "    elif(x==16):\n",
    "        return(\"ظاء\")\n",
    "    elif(x==17):\n",
    "        return(\"عين\")\n",
    "    elif(x==18):\n",
    "        return(\"غين\")\n",
    "    elif(x==19):\n",
    "        return(\"فاء\")\n",
    "    elif(x==20):\n",
    "        return(\"قاف\")\n",
    "    elif(x==21):\n",
    "        return(\"كاف\")\n",
    "    elif(x==22):\n",
    "        return(\"لام\")\n",
    "    elif(x==23):\n",
    "        return(\"ميم\") \n",
    "    elif(x==24):\n",
    "        return(\"نون\")\n",
    "    elif(x==25):\n",
    "        return(\"هاء\")\n",
    "    elif(x==26):\n",
    "        return(\"واو\")\n",
    "    elif(x==27):\n",
    "        return(\"ياء\")   \n",
    "    else :\n",
    "        return(\"لا اعلم ما هذ الحرف!\")"
   ]
  },
  {
   "cell_type": "code",
   "execution_count": 195,
   "id": "752a951e-cbf0-451d-accf-b43c325a3ad5",
   "metadata": {
    "tags": []
   },
   "outputs": [
    {
     "name": "stdout",
     "output_type": "stream",
     "text": [
      "---\n"
     ]
    }
   ],
   "source": [
    "def predAlphabet(model , imgPath):\n",
    "    t_img = cv2.imread(imgPath , 0)\n",
    "    t_img = cv2.resize(t_img , (32,32))\n",
    "    t_img = np.reshape(t_img , (1 , 32,32,1))\n",
    "    pred = model.predict(t_img)\n",
    "    print(np.argmax(pred))\n",
    "    print(getArabicAlphabet(np.argmax(pred)))\n",
    "    plt.figure(figsize=(2,2))\n",
    "    plt.imshow(t_img.squeeze() , cmap='gray')\n",
    "    plt.title(\"Predicted Value : \" + getArabicAlphabet(np.argmax(pred)))\n",
    "    plt.axis('off')\n",
    "print(\"---\")"
   ]
  },
  {
   "cell_type": "code",
   "execution_count": 197,
   "id": "c3c12f4a-3c28-4b0b-8e97-7e173c5eccb8",
   "metadata": {},
   "outputs": [
    {
     "name": "stdout",
     "output_type": "stream",
     "text": [
      "14\n",
      "ضاد\n"
     ]
    },
    {
     "data": {
      "image/png": "[encoded data removed]",
      "text/plain": [
       "<Figure size 200x200 with 1 Axes>"
      ]
     },
     "metadata": {},
     "output_type": "display_data"
    }
   ],
   "source": [
    "# test model\n",
    "predAlphabet(model , 'image/id_86_label_15.png')"
   ]
  },
  {
   "cell_type": "code",
   "execution_count": null,
   "id": "99817ba5-8d7d-4d32-b6a0-573678617251",
   "metadata": {},
   "outputs": [],
   "source": []
  },
  {
   "cell_type": "code",
   "execution_count": null,
   "id": "9533edfc-879c-48bf-ba6e-9320b6ae618e",
   "metadata": {},
   "outputs": [],
   "source": []
  },
  {
   "cell_type": "code",
   "execution_count": null,
   "id": "b2cdc913-639b-4753-afdb-5f427b6b9e94",
   "metadata": {},
   "outputs": [],
   "source": []
  }
 ],
 "metadata": {
  "kernelspec": {
   "display_name": "Python 3 (ipykernel)",
   "language": "python",
   "name": "python3"
  },
  "language_info": {
   "codemirror_mode": {
    "name": "ipython",
    "version": 3
   },
   "file_extension": ".py",
   "mimetype": "text/x-python",
   "name": "python",
   "nbconvert_exporter": "python",
   "pygments_lexer": "ipython3",
   "version": "3.10.12"
  }
 },
 "nbformat": 4,
 "nbformat_minor": 5
}
